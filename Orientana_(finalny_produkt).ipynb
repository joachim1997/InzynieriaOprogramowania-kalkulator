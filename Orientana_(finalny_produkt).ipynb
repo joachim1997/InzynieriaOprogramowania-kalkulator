{
  "nbformat": 4,
  "nbformat_minor": 0,
  "metadata": {
    "colab": {
      "provenance": [],
      "toc_visible": true,
      "authorship_tag": "ABX9TyOuYzxXKv9cbUHsfqlVVJS+",
      "include_colab_link": true
    },
    "kernelspec": {
      "name": "python3",
      "display_name": "Python 3"
    },
    "language_info": {
      "name": "python"
    }
  },
  "cells": [
    {
      "cell_type": "markdown",
      "metadata": {
        "id": "view-in-github",
        "colab_type": "text"
      },
      "source": [
        "<a href=\"https://colab.research.google.com/github/joachim1997/InzynieriaOprogramowania-kalkulator/blob/master/Orientana_(finalny_produkt).ipynb\" target=\"_parent\"><img src=\"https://colab.research.google.com/assets/colab-badge.svg\" alt=\"Open In Colab\"/></a>"
      ]
    },
    {
      "cell_type": "code",
      "execution_count": null,
      "metadata": {
        "id": "HKtx_8dJBb3F"
      },
      "outputs": [],
      "source": [
        "#Finalny produkt"
      ]
    },
    {
      "cell_type": "markdown",
      "source": [
        "# CENA JEDNEGO PRODUKTU"
      ],
      "metadata": {
        "id": "9m4J7srkAD5h"
      }
    },
    {
      "cell_type": "code",
      "source": [
        "#Cena w jednym rzędzie bez spacji, tabulatorów i enterów\n",
        "\n",
        "import requests \n",
        "from bs4 import BeautifulSoup \n",
        "\n",
        "url = 'https://www.hebe.pl/orientana-olejek-do-twarzy-dla-skory-mieszanej-tlustej-tradzikowej-55g-000000000000299732.html'\n",
        "\n",
        "# Make a GET request to fetch the raw HTML content\n",
        "html_content = requests.get(url).text\n",
        "\n",
        "# Parse the html content\n",
        "soup = BeautifulSoup(html_content, \"lxml\")\n",
        "\n",
        "# Find the element with tag div and class row\n",
        "div = soup.find('div', class_='row')\n",
        "\n",
        "# Find the element with tag div, class price-product__sales and ==$0\n",
        "price = div.find('div', class_='price-product__sales', attrs={'==$0'})\n",
        "\n",
        "# Get the text attribute and print it\n",
        "price_text = price.text.replace(\"\\t\", \"\").replace(\"\\n\", \"\").replace(\" \", \"\")\n",
        "print(price_text)"
      ],
      "metadata": {
        "colab": {
          "base_uri": "https://localhost:8080/"
        },
        "id": "9oEacbwDBdjJ",
        "outputId": "0cbbbd79-b053-40c0-974f-354737fb5a6d"
      },
      "execution_count": 1,
      "outputs": [
        {
          "output_type": "stream",
          "name": "stdout",
          "text": [
            "2879zł\n"
          ]
        }
      ]
    },
    {
      "cell_type": "code",
      "source": [
        "#Cena w jednym rzędzie bez spacji, tabulatorów i enterów\n",
        "#Wersja 2 \n",
        "\n",
        "import requests \n",
        "from bs4 import BeautifulSoup \n",
        "\n",
        "url = 'https://www.hebe.pl/orientana-olejek-do-twarzy-dla-skory-mieszanej-tlustej-tradzikowej-55g-000000000000299732.html'\n",
        "\n",
        "# Make a GET request to fetch the raw HTML content\n",
        "html_content = requests.get(url).text\n",
        "\n",
        "# Parse the html content\n",
        "soup = BeautifulSoup(html_content, \"lxml\")\n",
        "\n",
        "# Find the element with tag div and class row\n",
        "div = soup.find('div', class_='row')\n",
        "\n",
        "# Find the element with tag div, class price-product__sales and ==$0\n",
        "price = div.find('div', class_='price-product__sales', attrs={'==$0'})\n",
        "\n",
        "# Get the text attribute and print it\n",
        "price_text = price.text.replace(\"\\t\", \"\").replace(\"\\n\", \"\").replace(\" \", \"\")\n",
        "price_text = price_text.replace('cyfr', 'cyfr ')\n",
        "price_text = price_text.replace('zł', ' zł')\n",
        "\n",
        "print(price_text)"
      ],
      "metadata": {
        "colab": {
          "base_uri": "https://localhost:8080/"
        },
        "id": "j2KYd8Wk9LNb",
        "outputId": "829998f6-f3e0-495a-c24f-ffeeabea4da5"
      },
      "execution_count": 2,
      "outputs": [
        {
          "output_type": "stream",
          "name": "stdout",
          "text": [
            "2879 zł\n"
          ]
        }
      ]
    },
    {
      "cell_type": "code",
      "source": [
        "# FINALNA WERSJA CENY\n",
        "\n",
        "import requests \n",
        "from bs4 import BeautifulSoup \n",
        "\n",
        "url = 'https://www.hebe.pl/orientana-krem-do-twarzy-z-morwy-lukrecji-na-dzien-na-noc-50g-000000000000299727.html'\n",
        "\n",
        "# Make a GET request to fetch the raw HTML content\n",
        "html_content = requests.get(url).text\n",
        "\n",
        "# Parse the html content\n",
        "soup = BeautifulSoup(html_content, \"lxml\")\n",
        "\n",
        "# Find the element with tag div and class row\n",
        "div = soup.find('div', class_='row')\n",
        "\n",
        "# Find the element with tag div, class price-product__sales and ==$0\n",
        "price = div.find('div', class_='price-product__sales', attrs={'==$0'})\n",
        "\n",
        "# Get the text attribute and print it\n",
        "price_text = price.text.replace(\"\\t\", \"\").replace(\"\\n\", \"\").replace(\" \", \"\")\n",
        "price_text = price_text.replace('cyfr', 'cyfr ')\n",
        "price_text = price_text.replace('zł', ' zł')\n",
        "price_text = price_text[0:2] + '.' + price_text[2:] \n",
        "print(price_text)"
      ],
      "metadata": {
        "colab": {
          "base_uri": "https://localhost:8080/"
        },
        "id": "6rgEBVlE9tLi",
        "outputId": "ada4e370-c508-4038-dea4-1e9d57cf0eb8"
      },
      "execution_count": 68,
      "outputs": [
        {
          "output_type": "stream",
          "name": "stdout",
          "text": [
            "36.79 zł\n"
          ]
        }
      ]
    },
    {
      "cell_type": "markdown",
      "source": [
        "#NAZWA JEDNEGO PRODUKTU\n"
      ],
      "metadata": {
        "id": "IgeILsVtq6a_"
      }
    },
    {
      "cell_type": "code",
      "source": [
        "# Nazwa jednego produktu bez formatowania\n",
        "\n",
        "import requests\n",
        "from bs4 import BeautifulSoup\n",
        "\n",
        "URL = 'https://www.hebe.pl/orientana-krem-do-twarzy-na-dzien-na-noc-50g-000000000000275782.html'\n",
        "page = requests.get(URL)\n",
        "\n",
        "soup = BeautifulSoup(page.content, 'html.parser')\n",
        "\n",
        "results = soup.find('div', class_='row')\n",
        "\n",
        "for a in results.find_all('h1', class_='product-content__brand'):\n",
        "    print(a.text)"
      ],
      "metadata": {
        "id": "Ly5ownqDqwF-"
      },
      "execution_count": null,
      "outputs": []
    },
    {
      "cell_type": "code",
      "source": [
        "# Nazwa jednego produktu bez przecinków\n",
        "\n",
        "import requests\n",
        "from bs4 import BeautifulSoup\n",
        "\n",
        "URL = 'https://www.hebe.pl/orientana-krem-do-twarzy-ze-sluzem-slimaka-50ml-000000000000299731.html'\n",
        "page = requests.get(URL)\n",
        "\n",
        "soup = BeautifulSoup(page.content, 'html.parser')\n",
        "\n",
        "results = soup.find('div', class_='row')\n",
        "\n",
        "for a in results.find_all('h1', class_='product-content__brand'):\n",
        "    print(a.text.replace(',', ''))"
      ],
      "metadata": {
        "id": "Kn6rs0Hjr4Eq"
      },
      "execution_count": null,
      "outputs": []
    },
    {
      "cell_type": "code",
      "source": [
        "# Nazwa jednego produktu bez przecinków - z dużymi pierwszymi literami\n",
        "\n",
        "import requests\n",
        "from bs4 import BeautifulSoup\n",
        "\n",
        "URL = 'https://www.hebe.pl/orientana-krem-do-twarzy-na-dzien-na-noc-50g-000000000000275782.html'\n",
        "page = requests.get(URL)\n",
        "\n",
        "soup = BeautifulSoup(page.content, 'html.parser')\n",
        "\n",
        "results = soup.find('div', class_='row')\n",
        "\n",
        "for a in results.find_all('h1', class_='product-content__brand'):\n",
        "    print(a.text.replace(',', '').title())"
      ],
      "metadata": {
        "id": "EI5wpn8Wts5A"
      },
      "execution_count": null,
      "outputs": []
    },
    {
      "cell_type": "code",
      "source": [
        "# Nazwa jednego produktu bez przecinków - z dużymi pierwszymi literami i znakiem \"_\" przed każdą wielką literą\n",
        "\n",
        "import requests\n",
        "from bs4 import BeautifulSoup\n",
        "\n",
        "URL = 'https://www.hebe.pl/orientana-booster-regenerujacy-do-twarzy-30-ml-000000000000386391.html'\n",
        "page = requests.get(URL)\n",
        "\n",
        "soup = BeautifulSoup(page.content, 'html.parser')\n",
        "\n",
        "results = soup.find('div', class_='row')\n",
        "\n",
        "for a in results.find_all('h1', class_='product-content__brand'):\n",
        "      print(a.text.replace(',', '').title().replace('A', '_A').replace('B', '_B').replace('C', '_C').replace('D', '_D').replace('E', '_E').replace('F', '_F').replace('G', '_G').replace('H', '_H').replace('I', '_I').replace('J', '_J').replace('K', '_K').replace('L', '_L').replace('M', '_M').replace('N', '_N').replace('O', '_O').replace('P', '_P').replace('Q', '_Q').replace('R', '_R').replace('S', '_S').replace('T', '_T').replace('U', '_U').replace('V', '_V').replace('W', '_W').replace('X', '_X').replace('Y', '_Y').replace('Z', '_Z'))"
      ],
      "metadata": {
        "id": "r09xQmabxGkr"
      },
      "execution_count": null,
      "outputs": []
    },
    {
      "cell_type": "code",
      "source": [
        "# FINALNA WERSJA NAZWY JEDNEGO PRODUKTU\n",
        "\n",
        "import requests\n",
        "from bs4 import BeautifulSoup\n",
        "\n",
        "URL = 'https://www.hebe.pl/orientana-krem-do-twarzy-ze-sluzem-slimaka-50ml-000000000000299731.html'\n",
        "page = requests.get(URL)\n",
        "\n",
        "soup = BeautifulSoup(page.content, 'html.parser')\n",
        "\n",
        "results = soup.find('div', class_='row')\n",
        "\n",
        "for a in results.find_all('h1', class_='product-content__brand'):\n",
        "      print(a.text.replace(',', '').title().replace('A', '_A').replace('B', '_B').replace('C', '_C').replace('D', '_D').replace('E', '_E').replace('F', '_F').replace('G', '_G').replace('H', '_H').replace('I', '_I').replace('J', '_J').replace('K', '_K').replace('L', '_L').replace('M', '_M').replace('N', '_N').replace('O', '_O').replace('P', '_P').replace('Q', '_Q').replace('R', '_R').replace('S', '_S').replace('T', '_T').replace('U', '_U').replace('V', '_V').replace('W', '_W').replace('X', '_X').replace('Y', '_Y').replace('Z', '_Z').replace(' ', '').replace('\\t', '').replace('\\n', ''))"
      ],
      "metadata": {
        "colab": {
          "base_uri": "https://localhost:8080/"
        },
        "id": "M3FMfsQrzGXe",
        "outputId": "7552322c-cbcb-4567-94b0-9df089382c2f"
      },
      "execution_count": 88,
      "outputs": [
        {
          "output_type": "stream",
          "name": "stdout",
          "text": [
            "_Orientana_Natural_Snail_Cream_Regenerujący_Krem_Do_Twarzy_ZeŚluzemŚlimaka50_Ml\n"
          ]
        }
      ]
    },
    {
      "cell_type": "markdown",
      "source": [
        "#CENA I NAZWA PRODUKTU W JEDNYM WIERSZU"
      ],
      "metadata": {
        "id": "_8vLAnfE0HP1"
      }
    },
    {
      "cell_type": "code",
      "source": [
        "import requests \n",
        "from bs4 import BeautifulSoup \n",
        "\n",
        "url = 'https://www.hebe.pl/orientana-krem-do-twarzy-z-zen-szen-indyjski-na-dzien-na-noc-50g-000000000000275781.html'\n",
        "\n",
        "# Make a GET request to fetch the raw HTML content\n",
        "html_content = requests.get(url).text\n",
        "\n",
        "# Parse the html content\n",
        "soup = BeautifulSoup(html_content, \"lxml\")\n",
        "\n",
        "# Find the element with tag div and class row\n",
        "div = soup.find('div', class_='row')\n",
        "\n",
        "# Find the element with tag div, class price-product__sales and ==$0\n",
        "price = div.find('div', class_='price-product__sales', attrs={'==$0'})\n",
        "\n",
        "# Get the text attribute and print it\n",
        "price_text = price.text.replace(\"\\t\", \"\").replace(\"\\n\", \"\").replace(\" \", \"\")\n",
        "price_text = price_text.replace('cyfr', 'cyfr ')\n",
        "price_text = price_text.replace('zł', ' zł')\n",
        "price_text = price_text[0:2] + '.' + price_text[2:] \n",
        "print(price_text, end=\" / \")\n",
        "\n",
        "URL = url\n",
        "page = requests.get(URL)\n",
        "\n",
        "soup = BeautifulSoup(page.content, 'html.parser')\n",
        "\n",
        "results = soup.find('div', class_='row')\n",
        "\n",
        "for a in results.find_all('h1', class_='product-content__brand'):\n",
        "      print(a.text.replace(',', '').title().replace('A', '_A').replace('B', '_B').replace('C', '_C').replace('D', '_D').replace('E', '_E').replace('F', '_F').replace('G', '_G').replace('H', '_H').replace('I', '_I').replace('J', '_J').replace('K', '_K').replace('L', '_L').replace('M', '_M').replace('N', '_N').replace('O', '_O').replace('P', '_P').replace('Q', '_Q').replace('R', '_R').replace('S', '_S').replace('T', '_T').replace('U', '_U').replace('V', '_V').replace('W', '_W').replace('X', '_X').replace('Y', '_Y').replace('Z', '_Z').replace(' ', '').replace('\\t', '').replace('\\n', ''))"
      ],
      "metadata": {
        "colab": {
          "base_uri": "https://localhost:8080/"
        },
        "id": "UlrdfkR70GOf",
        "outputId": "72c65379-5a61-45a1-aee3-6487a1bb1517"
      },
      "execution_count": 92,
      "outputs": [
        {
          "output_type": "stream",
          "name": "stdout",
          "text": [
            "35.99 zł / _Orientana_Krem_Do_Twarzy_ZŻeń-_Szeń_Indyjski_Na_Dzień_I_Noc40_G\n"
          ]
        }
      ]
    },
    {
      "cell_type": "code",
      "source": [
        "import requests \n",
        "from bs4 import BeautifulSoup \n",
        "\n",
        "url1 = 'https://www.hebe.pl/orientana-krem-do-twarzy-z-zen-szen-indyjski-na-dzien-na-noc-50g-000000000000275781.html'\n",
        "url2 = 'https://www.hebe.pl/orientana-krem-do-twarzy-z-morwy-lukrecji-na-dzien-na-noc-50g-000000000000299727.html'\n",
        "\n",
        "# Make a GET request to fetch the raw HTML content\n",
        "html_content1 = requests.get(url1).text\n",
        "html_content2 = requests.get(url2).text\n",
        "\n",
        "# Parse the html content\n",
        "soup1 = BeautifulSoup(html_content1, \"lxml\")\n",
        "soup2 = BeautifulSoup(html_content2, \"lxml\")\n",
        "\n",
        "# Find the element with tag div and class row\n",
        "div1 = soup1.find('div', class_='row')\n",
        "div2 = soup2.find('div', class_='row')\n",
        "\n",
        "# Find the element with tag div, class price-product__sales and ==$0\n",
        "price1 = div1.find('div', class_='price-product__sales', attrs={'==$0'})\n",
        "price2 = div2.find('div', class_='price-product__sales', attrs={'==$0'})\n",
        "\n",
        "# Get the text attribute and print it\n",
        "price_text1 = price1.text.replace(\"\\t\", \"\").replace(\"\\n\", \"\").replace(\" \", \"\")\n",
        "price_text1 = price_text1.replace('cyfr', 'cyfr ')\n",
        "price_text1 = price_text1.replace('zł', ' zł')\n",
        "price_text1 = price_text1[0:2] + '.' + price_text1[2:] \n",
        "\n",
        "price_text2 = price2.text.replace(\"\\t\", \"\").replace(\"\\n\", \"\").replace(\" \", \"\")\n",
        "price_text2 = price_text2.replace('cyfr', 'cyfr ')\n",
        "price_text2 = price_text2.replace('zł', ' zł')\n",
        "price_text2 = price_text2[0:2] + '.' + price_text2[2:] \n",
        "\n",
        "print(price_text1, end=\" / \")\n",
        "\n",
        "URL1 = url1\n",
        "URL2 = url2\n",
        "\n",
        "page1 = requests.get(URL1)\n",
        "page2 = requests.get(URL2)\n",
        "\n",
        "soup1 = BeautifulSoup(page1.content, 'html.parser')\n",
        "soup2 = BeautifulSoup(page2.content, 'html.parser')\n",
        "\n",
        "results1 = soup1.find('div', class_='row')\n",
        "results2 = soup2.find('div', class_='row')\n",
        "\n",
        "for a in results1.find_all('h1', class_='product-content__brand'):\n",
        "      print(a.text.replace(',', '').title().replace('A', '_A').replace('B', '_B').replace('C', '_C').replace('D', '_D').replace('E', '_E').replace('F', '_F').replace('G', '_G').replace('H', '_H').replace('I', '_I').replace('J', '_J').replace('K', '_K').replace('L', '_L').replace('M', '_M').replace('N', '_N').replace('O', '_O').replace('P', '_P').replace('Q', '_Q').replace('R', '_R').replace('S', '_S').replace('T', '_T').replace('U', '_U').replace('V', '_V').replace('W', '_W').replace('X', '_X').replace('Y', '_Y').replace('Z', '_Z').replace(' ', '').replace('\\t', '').replace('\\n', ''))\n",
        "\n",
        "print(price_text2, end=\" / \")\n",
        "\n",
        "for a in results2.find_all('h1', class_='product-content__brand'):\n",
        "      print(a.text.replace(',', '').title().replace('A', '_A').replace('B', '_B').replace('C', '_C').replace('D', '_D').replace('E', '_E').replace('F', '_F').replace('G', '_G').replace('H', '_H').replace('I', '_I').replace('J', '_J').replace('K', '_K').replace('L', '_L').replace('M', '_M').replace('N', '_N').replace('O', '_O').replace('P', '_P').replace('Q', '_Q').replace('R', '_R').replace('S', '_S').replace('T', '_T').replace('U', '_U').replace('V', '_V').replace('W', '_W').replace('X', '_X').replace('Y', '_Y').replace('Z', '_Z').replace(' ', '').replace('\\t', '').replace('\\n', ''))"
      ],
      "metadata": {
        "colab": {
          "base_uri": "https://localhost:8080/"
        },
        "id": "perqd2bk32Uy",
        "outputId": "d0666150-db42-4496-c953-22f3bf6b781c"
      },
      "execution_count": 98,
      "outputs": [
        {
          "output_type": "stream",
          "name": "stdout",
          "text": [
            "35.99 zł / _Orientana_Krem_Do_Twarzy_ZŻeń-_Szeń_Indyjski_Na_Dzień_I_Noc40_G\n",
            "36.79 zł / _Orientana_Morwa_I_Lukrecja_Krem_Do_Twarzy_Z_Morwy_I_Lukrecji_Na_Dzień_I_Noc50_G\n"
          ]
        }
      ]
    }
  ]
}